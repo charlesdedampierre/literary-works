{
 "cells": [
  {
   "cell_type": "code",
   "execution_count": 2,
   "metadata": {},
   "outputs": [],
   "source": [
    "import pandas as pd\n",
    "\n",
    "data = pd.read_csv(\"raw_data/literay_works.csv\")\n",
    "data['wikidata_id'] = data['work'].apply(lambda x: x.split(\"http://www.wikidata.org/entity/\")[1])"
   ]
  },
  {
   "cell_type": "code",
   "execution_count": 3,
   "metadata": {},
   "outputs": [
    {
     "data": {
      "text/html": [
       "<div>\n",
       "<style scoped>\n",
       "    .dataframe tbody tr th:only-of-type {\n",
       "        vertical-align: middle;\n",
       "    }\n",
       "\n",
       "    .dataframe tbody tr th {\n",
       "        vertical-align: top;\n",
       "    }\n",
       "\n",
       "    .dataframe thead th {\n",
       "        text-align: right;\n",
       "    }\n",
       "</style>\n",
       "<table border=\"1\" class=\"dataframe\">\n",
       "  <thead>\n",
       "    <tr style=\"text-align: right;\">\n",
       "      <th></th>\n",
       "      <th>work</th>\n",
       "      <th>wikidata_id</th>\n",
       "    </tr>\n",
       "  </thead>\n",
       "  <tbody>\n",
       "    <tr>\n",
       "      <th>0</th>\n",
       "      <td>http://www.wikidata.org/entity/Q428</td>\n",
       "      <td>Q428</td>\n",
       "    </tr>\n",
       "    <tr>\n",
       "      <th>1</th>\n",
       "      <td>http://www.wikidata.org/entity/Q470</td>\n",
       "      <td>Q470</td>\n",
       "    </tr>\n",
       "    <tr>\n",
       "      <th>2</th>\n",
       "      <td>http://www.wikidata.org/entity/Q473</td>\n",
       "      <td>Q473</td>\n",
       "    </tr>\n",
       "    <tr>\n",
       "      <th>3</th>\n",
       "      <td>http://www.wikidata.org/entity/Q480</td>\n",
       "      <td>Q480</td>\n",
       "    </tr>\n",
       "    <tr>\n",
       "      <th>4</th>\n",
       "      <td>http://www.wikidata.org/entity/Q721</td>\n",
       "      <td>Q721</td>\n",
       "    </tr>\n",
       "    <tr>\n",
       "      <th>...</th>\n",
       "      <td>...</td>\n",
       "      <td>...</td>\n",
       "    </tr>\n",
       "    <tr>\n",
       "      <th>246509</th>\n",
       "      <td>http://www.wikidata.org/entity/Q124680970</td>\n",
       "      <td>Q124680970</td>\n",
       "    </tr>\n",
       "    <tr>\n",
       "      <th>246510</th>\n",
       "      <td>http://www.wikidata.org/entity/Q124681332</td>\n",
       "      <td>Q124681332</td>\n",
       "    </tr>\n",
       "    <tr>\n",
       "      <th>246511</th>\n",
       "      <td>http://www.wikidata.org/entity/Q124681340</td>\n",
       "      <td>Q124681340</td>\n",
       "    </tr>\n",
       "    <tr>\n",
       "      <th>246512</th>\n",
       "      <td>http://www.wikidata.org/entity/Q124683127</td>\n",
       "      <td>Q124683127</td>\n",
       "    </tr>\n",
       "    <tr>\n",
       "      <th>246513</th>\n",
       "      <td>http://www.wikidata.org/entity/Q124683497</td>\n",
       "      <td>Q124683497</td>\n",
       "    </tr>\n",
       "  </tbody>\n",
       "</table>\n",
       "<p>246514 rows × 2 columns</p>\n",
       "</div>"
      ],
      "text/plain": [
       "                                             work wikidata_id\n",
       "0             http://www.wikidata.org/entity/Q428        Q428\n",
       "1             http://www.wikidata.org/entity/Q470        Q470\n",
       "2             http://www.wikidata.org/entity/Q473        Q473\n",
       "3             http://www.wikidata.org/entity/Q480        Q480\n",
       "4             http://www.wikidata.org/entity/Q721        Q721\n",
       "...                                           ...         ...\n",
       "246509  http://www.wikidata.org/entity/Q124680970  Q124680970\n",
       "246510  http://www.wikidata.org/entity/Q124681332  Q124681332\n",
       "246511  http://www.wikidata.org/entity/Q124681340  Q124681340\n",
       "246512  http://www.wikidata.org/entity/Q124683127  Q124683127\n",
       "246513  http://www.wikidata.org/entity/Q124683497  Q124683497\n",
       "\n",
       "[246514 rows x 2 columns]"
      ]
     },
     "execution_count": 3,
     "metadata": {},
     "output_type": "execute_result"
    }
   ],
   "source": [
    "data"
   ]
  }
 ],
 "metadata": {
  "kernelspec": {
   "display_name": "bunka_env",
   "language": "python",
   "name": "python3"
  },
  "language_info": {
   "codemirror_mode": {
    "name": "ipython",
    "version": 3
   },
   "file_extension": ".py",
   "mimetype": "text/x-python",
   "name": "python",
   "nbconvert_exporter": "python",
   "pygments_lexer": "ipython3",
   "version": "3.10.13"
  }
 },
 "nbformat": 4,
 "nbformat_minor": 2
}
